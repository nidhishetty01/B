{
 "cells": [
  {
   "cell_type": "code",
   "execution_count": 1,
   "id": "919fd59d",
   "metadata": {},
   "outputs": [
    {
     "name": "stdout",
     "output_type": "stream",
     "text": [
      "Position 2 (value 2):\n",
      "  Count: 3\n",
      "  Surprise number: 115\n",
      "Position 5 (value 4):\n",
      "  Count: 6\n",
      "  Surprise number: 253\n",
      "Position 8 (value 6):\n",
      "  Count: 2\n",
      "  Surprise number: 69\n",
      "Average surprise number: 145.66666666666666\n"
     ]
    }
   ],
   "source": [
    "def calculate_surprise_numbers(stream, start_positions):\n",
    "    results = {}\n",
    "    surprise_numbers = []\n",
    "\n",
    "    for pos in start_positions:\n",
    "        if pos <= len(stream):\n",
    "            target_value = stream[pos - 1]\n",
    "            count = stream[pos - 1:].count(target_value)\n",
    "            surprise_number = len(stream) * (2 * count - 1)\n",
    "            results[pos] = {'count': count, 'surprise_number': surprise_number}\n",
    "            surprise_numbers.append(surprise_number)\n",
    "\n",
    "    return results, surprise_numbers\n",
    "\n",
    "# Example usage:\n",
    "stream = [1, 2, 7, 1, 4, 9, 4, 6, 1, 6, 4, 4, 5, 5, 5, 9, 8, 7, 2, 2, 4, 4, 1]\n",
    "start_positions = [2, 5, 8]\n",
    "\n",
    "results, surprise_numbers = calculate_surprise_numbers(stream, start_positions)\n",
    "\n",
    "for pos, data in results.items():\n",
    "    print(f\"Position {pos} (value {stream[pos - 1]}):\")\n",
    "    print(f\"  Count: {data['count']}\")\n",
    "    print(f\"  Surprise number: {data['surprise_number']}\")\n",
    "\n",
    "print(f\"Average surprise number: {sum(surprise_numbers) / len(surprise_numbers)}\")\n"
   ]
  },
  {
   "cell_type": "code",
   "execution_count": null,
   "id": "1fa1b818",
   "metadata": {},
   "outputs": [],
   "source": []
  }
 ],
 "metadata": {
  "kernelspec": {
   "display_name": "Python 3 (ipykernel)",
   "language": "python",
   "name": "python3"
  },
  "language_info": {
   "codemirror_mode": {
    "name": "ipython",
    "version": 3
   },
   "file_extension": ".py",
   "mimetype": "text/x-python",
   "name": "python",
   "nbconvert_exporter": "python",
   "pygments_lexer": "ipython3",
   "version": "3.11.5"
  }
 },
 "nbformat": 4,
 "nbformat_minor": 5
}
