{
 "cells": [
  {
   "cell_type": "code",
   "execution_count": 3,
   "id": "82acf05a",
   "metadata": {},
   "outputs": [
    {
     "name": "stdout",
     "output_type": "stream",
     "text": [
      "Element | h1(x) | h2(x) | Bit Index 1 | Bit Index 2\n",
      "---------------------------------------------------\n",
      "     15 |    16 |    13 |          16 |          13\n",
      "     10 |    11 |    15 |          11 |          15\n",
      "      3 |     4 |    11 |           4 |          11\n",
      "\n",
      "Bit array after adding elements:\n",
      "[0, 0, 0, 0, 1, 0, 0, 0, 0, 0, 0, 1, 0, 1, 0, 1, 1, 0]\n",
      "\n",
      "New Element: 3\n",
      "Bit Index 1: 4, Bit Index 2: 11\n",
      "Is the new element 3 in the Bloom filter? Yes\n",
      "\n",
      "Bit array after checking new element:\n",
      "[0, 0, 0, 0, 1, 0, 0, 0, 0, 0, 0, 1, 0, 1, 0, 1, 1, 0]\n"
     ]
    }
   ],
   "source": [
    "def hash1(x):\n",
    "    return (x + 1) % 17\n",
    "\n",
    "def hash2(x):\n",
    "    return (3 * x + 2) % 17\n",
    "\n",
    "def compute_hashes(x, size):\n",
    "    return hash1(x) % size, hash2(x) % size\n",
    "\n",
    "# Initialize bit array\n",
    "size = 18\n",
    "bit_array = [0] * size\n",
    "\n",
    "# Elements to add\n",
    "elements = [15, 10, 3]\n",
    "print(\"Element | h1(x) | h2(x) | Bit Index 1 | Bit Index 2\")\n",
    "print(\"---------------------------------------------------\")\n",
    "\n",
    "# Add elements to the Bloom filter\n",
    "for element in elements:\n",
    "    index1, index2 = compute_hashes(element, size)\n",
    "    bit_array[index1] = 1\n",
    "    bit_array[index2] = 1\n",
    "    print(f\"{element:7} | {hash1(element):5} | {hash2(element):5} | {index1:11} | {index2:11}\")\n",
    "\n",
    "# Display the bit array\n",
    "print(\"\\nBit array after adding elements:\")\n",
    "print(bit_array)\n",
    "\n",
    "# Check new element\n",
    "new_element = 3\n",
    "new_index1, new_index2 = compute_hashes(new_element, size)\n",
    "\n",
    "print(f\"\\nNew Element: {new_element}\")\n",
    "print(f\"Bit Index 1: {new_index1}, Bit Index 2: {new_index2}\")\n",
    "\n",
    "# Check presence of the new element\n",
    "is_present = bit_array[new_index1] and bit_array[new_index2]\n",
    "print(f\"Is the new element {new_element} in the Bloom filter? {'Yes' if is_present else 'No'}\")\n",
    "\n",
    "# Display the updated bit array\n",
    "print(\"\\nBit array after checking new element:\")\n",
    "print(bit_array)\n"
   ]
  },
  {
   "cell_type": "code",
   "execution_count": null,
   "id": "d5343119",
   "metadata": {},
   "outputs": [],
   "source": []
  }
 ],
 "metadata": {
  "kernelspec": {
   "display_name": "Python 3 (ipykernel)",
   "language": "python",
   "name": "python3"
  },
  "language_info": {
   "codemirror_mode": {
    "name": "ipython",
    "version": 3
   },
   "file_extension": ".py",
   "mimetype": "text/x-python",
   "name": "python",
   "nbconvert_exporter": "python",
   "pygments_lexer": "ipython3",
   "version": "3.11.5"
  }
 },
 "nbformat": 4,
 "nbformat_minor": 5
}
